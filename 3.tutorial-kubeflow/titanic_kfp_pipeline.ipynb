{
 "cells": [
  {
   "cell_type": "code",
   "execution_count": 10,
   "metadata": {
    "tags": []
   },
   "outputs": [
    {
     "name": "stdout",
     "output_type": "stream",
     "text": [
      "learned-iridium-385115\n",
      "whjang-titanic\n",
      "preprocess\n",
      "train\n",
      "gs://practice-tensorflow/3.tutorial-kubeflow\n",
      "gs://practice-tensorflow/3.tutorial-kubeflow/rawdata/train.csv\n",
      "gs://practice-tensorflow/3.tutorial-kubeflow/preprocdata/processed_train.csv\n",
      "gs://practice-tensorflow/3.tutorial-kubeflow/latestacc/accuracy.csv\n",
      "gs://practice-tensorflow/3.tutorial-kubeflow/model/model.pkl\n",
      "gs://practice-tensorflow/3.tutorial-kubeflow/stage\n",
      "gs://practice-tensorflow/3.tutorial-kubeflow/train/titanic_train.tar.gz\n",
      "gs://practice-tensorflow/3.tutorial-kubeflow/train/output/\n"
     ]
    }
   ],
   "source": [
    "#titanic_kfp_pipeline.ipynb\n",
    "#Copyright 2020 Google LLC. \n",
    "#This software is provided as-is, without warranty or representation for any use or purpose. \n",
    "#Your use of it is subject to your agreements with Google.\n",
    "#Author: whjang@google.com\n",
    "\n",
    "PROJECT_ID = \"learned-iridium-385115\"\n",
    "IMAGE_PREFIX = \"whjang-titanic\"\n",
    "PREPROC_DIR = \"preprocess\"\n",
    "TRAIN_DIR = \"train\"\n",
    "\n",
    "WORK_BUCKET = \"gs://practice-tensorflow/3.tutorial-kubeflow\"\n",
    "RAW_CSV_GCS_URI = WORK_BUCKET + \"/rawdata/train.csv\"\n",
    "PREPROC_CSV_GCS_URI = WORK_BUCKET + \"/preprocdata/processed_train.csv\"\n",
    "ACC_CSV_GCS_URI = WORK_BUCKET + \"/latestacc/accuracy.csv\"\n",
    "MODEL_PKL_GCS_URI = WORK_BUCKET + \"/model/model.pkl\"\n",
    "STAGE_GCS_FOLDER = WORK_BUCKET + \"/stage\"\n",
    "\n",
    "AIPJOB_TRAINER_GCS_PATH = WORK_BUCKET + \"/train/titanic_train.tar.gz\"\n",
    "AIPJOB_OUTPUT_GCS_PATH = WORK_BUCKET + \"/train/output/\"\n",
    "\n",
    "import os\n",
    "os.environ[\"PROJECT_ID\"] = PROJECT_ID\n",
    "os.environ[\"IMAGE_PREFIX\"] = IMAGE_PREFIX\n",
    "os.environ[\"PREPROC_DIR\"] = PREPROC_DIR\n",
    "os.environ[\"TRAIN_DIR\"] = TRAIN_DIR\n",
    "\n",
    "os.environ[\"WORK_BUCKET\"] = WORK_BUCKET\n",
    "os.environ[\"RAW_CSV_GCS_URI\"] = RAW_CSV_GCS_URI\n",
    "os.environ[\"PREPROC_CSV_GCS_URI\"] = PREPROC_CSV_GCS_URI\n",
    "os.environ[\"ACC_CSV_GCS_URI\"] = ACC_CSV_GCS_URI\n",
    "os.environ[\"MODEL_PKL_GCS_URI\"] = MODEL_PKL_GCS_URI\n",
    "os.environ[\"STAGE_GCS_FOLDER\"] = STAGE_GCS_FOLDER\n",
    "os.environ[\"AIPJOB_TRAINER_GCS_PATH\"] = AIPJOB_TRAINER_GCS_PATH\n",
    "os.environ[\"AIPJOB_OUTPUT_GCS_PATH\"] = AIPJOB_OUTPUT_GCS_PATH\n",
    "\n",
    "!echo $PROJECT_ID\n",
    "!echo $IMAGE_PREFIX\n",
    "!echo $PREPROC_DIR\n",
    "!echo $TRAIN_DIR\n",
    "!echo $WORK_BUCKET\n",
    "!echo $RAW_CSV_GCS_URI\n",
    "!echo $PREPROC_CSV_GCS_URI\n",
    "!echo $ACC_CSV_GCS_URI\n",
    "!echo $MODEL_PKL_GCS_URI\n",
    "!echo $STAGE_GCS_FOLDER\n",
    "!echo $AIPJOB_TRAINER_GCS_PATH\n",
    "!echo $AIPJOB_OUTPUT_GCS_PATH"
   ]
  },
  {
   "cell_type": "code",
   "execution_count": 12,
   "metadata": {},
   "outputs": [
    {
     "name": "stdout",
     "output_type": "stream",
     "text": [
      "Sending build context to Docker daemon   7.68kB\n",
      "Step 1/10 : FROM amancevice/pandas\n",
      " ---> 913743377700\n",
      "Step 2/10 : RUN pip3 install --upgrade pandas\n",
      " ---> Using cache\n",
      " ---> c50a88bd7679\n",
      "Step 3/10 : RUN pip3 install --upgrade gcsfs\n",
      " ---> Using cache\n",
      " ---> e3937fb8d6ce\n",
      "Step 4/10 : RUN pip3 install --upgrade argparse\n",
      " ---> Using cache\n",
      " ---> ca55437f722b\n",
      "Step 5/10 : RUN pip3 install sklearn\n",
      " ---> Using cache\n",
      " ---> e1bca2a336e5\n",
      "Step 6/10 : ENV PYTHONUNBUFFERED 1\n",
      " ---> Using cache\n",
      " ---> 839afde6bcb5\n",
      "Step 7/10 : RUN mkdir -p /titanic/src\n",
      " ---> Using cache\n",
      " ---> cd2b35fb86b5\n",
      "Step 8/10 : COPY . /titanic/src\n",
      " ---> Using cache\n",
      " ---> 15dfff23d5c0\n",
      "Step 9/10 : WORKDIR /titanic/src\n",
      " ---> Using cache\n",
      " ---> f4ab1b99ef4d\n",
      "Step 10/10 : ENTRYPOINT [\"python\", \"titanic_preprocess.py\"]\n",
      " ---> Using cache\n",
      " ---> d364eb9577a0\n",
      "Successfully built d364eb9577a0\n",
      "Successfully tagged whjang-titanic-preprocess:latest\n",
      "The push refers to repository [gcr.io/learned-iridium-385115/whjang-titanic-preprocess]\n",
      "\n",
      "\u001b[1Bf8663698: Preparing \n",
      "\u001b[1B4c1dfa60: Preparing \n",
      "\u001b[1Bdb8c4555: Preparing \n",
      "\u001b[1Bb0765994: Preparing \n",
      "\u001b[1B9274cdab: Preparing \n",
      "\u001b[1B16fbc8c8: Preparing \n",
      "\u001b[1Bf9850ac6: Preparing \n",
      "\u001b[1B4e579163: Preparing \n",
      "\u001b[1B338d328a: Preparing \n",
      "\u001b[1B857d7bd5: Preparing \n",
      "\u001b[1B32a549a2: Preparing \n",
      "\u001b[1B8e3386b6: Preparing \n",
      "\u001b[1B5e673844: Preparing \n",
      "\u001b[1B811d364e: Preparing \n",
      "\u001b[1B260e173a: Preparing \n",
      "\u001b[1Bbb98b0dc: Preparing \n",
      "\u001b[1B8387f467: Preparing \n",
      "\u001b[12B9850ac6: Pushed   193.5MB/188.3MB\u001b[18A\u001b[2K\u001b[15A\u001b[2K\u001b[14A\u001b[2K\u001b[16A\u001b[2K\u001b[16A\u001b[2K\u001b[14A\u001b[2K\u001b[16A\u001b[2K\u001b[14A\u001b[2K\u001b[14A\u001b[2K\u001b[14A\u001b[2K\u001b[14A\u001b[2K\u001b[14A\u001b[2K\u001b[14A\u001b[2K\u001b[14A\u001b[2K\u001b[14A\u001b[2K\u001b[14A\u001b[2K\u001b[14A\u001b[2K\u001b[14A\u001b[2K\u001b[14A\u001b[2K\u001b[14A\u001b[2K\u001b[14A\u001b[2K\u001b[14A\u001b[2K\u001b[18A\u001b[2K\u001b[13A\u001b[2K\u001b[13A\u001b[2K\u001b[15A\u001b[2K\u001b[17A\u001b[2K\u001b[12A\u001b[2K\u001b[11A\u001b[2K\u001b[11A\u001b[2K\u001b[16A\u001b[2K\u001b[12A\u001b[2K\u001b[12A\u001b[2K\u001b[12A\u001b[2K\u001b[12A\u001b[2K\u001b[12A\u001b[2K\u001b[12A\u001b[2K\u001b[12A\u001b[2K\u001b[12A\u001b[2K\u001b[12A\u001b[2K\u001b[12A\u001b[2K\u001b[12A\u001b[2K\u001b[12A\u001b[2K\u001b[12A\u001b[2K\u001b[12A\u001b[2K\u001b[14A\u001b[2K\u001b[12A\u001b[2K\u001b[12A\u001b[2K\u001b[12A\u001b[2K\u001b[12A\u001b[2K\u001b[12A\u001b[2K\u001b[12A\u001b[2K\u001b[12A\u001b[2K\u001b[12A\u001b[2K\u001b[12A\u001b[2K\u001b[9A\u001b[2K\u001b[12A\u001b[2K\u001b[12A\u001b[2K\u001b[12A\u001b[2K\u001b[12A\u001b[2K\u001b[13A\u001b[2K\u001b[12A\u001b[2K\u001b[12A\u001b[2K\u001b[8A\u001b[2K\u001b[12A\u001b[2K\u001b[12A\u001b[2K\u001b[12A\u001b[2K\u001b[12A\u001b[2K\u001b[12A\u001b[2K\u001b[12A\u001b[2K\u001b[7A\u001b[2K\u001b[12A\u001b[2K\u001b[12A\u001b[2K\u001b[12A\u001b[2K\u001b[6A\u001b[2K\u001b[10A\u001b[2K\u001b[12A\u001b[2K\u001b[12A\u001b[2K\u001b[5A\u001b[2K\u001b[12A\u001b[2K\u001b[4A\u001b[2K\u001b[12A\u001b[2K\u001b[12A\u001b[2K\u001b[12A\u001b[2K\u001b[3A\u001b[2K\u001b[12A\u001b[2K\u001b[12A\u001b[2K\u001b[12A\u001b[2K\u001b[1A\u001b[2K\u001b[12A\u001b[2K\u001b[12A\u001b[2K\u001b[12A\u001b[2K\u001b[12A\u001b[2K\u001b[12A\u001b[2K\u001b[12A\u001b[2K\u001b[12A\u001b[2K\u001b[12A\u001b[2K\u001b[12A\u001b[2K\u001b[12A\u001b[2K\u001b[12A\u001b[2K\u001b[12A\u001b[2K\u001b[12A\u001b[2K\u001b[12A\u001b[2K\u001b[12A\u001b[2K\u001b[12A\u001b[2K\u001b[12A\u001b[2K\u001b[12A\u001b[2K\u001b[12A\u001b[2K\u001b[12A\u001b[2K\u001b[12A\u001b[2K\u001b[12A\u001b[2K\u001b[12A\u001b[2K\u001b[12A\u001b[2K\u001b[12A\u001b[2K\u001b[12A\u001b[2K\u001b[12A\u001b[2K\u001b[12A\u001b[2K\u001b[12A\u001b[2K\u001b[12A\u001b[2K\u001b[12A\u001b[2K\u001b[12A\u001b[2K\u001b[12A\u001b[2K\u001b[12A\u001b[2K\u001b[12A\u001b[2K\u001b[12A\u001b[2Klatest: digest: sha256:ef2d9d38efd2a0fdb42f883813524d621df481f74c50076a710ffdc19f99305b size: 4104\n"
     ]
    }
   ],
   "source": [
    "!docker build -t $IMAGE_PREFIX-$PREPROC_DIR $PREPROC_DIR/.\n",
    "!docker tag $IMAGE_PREFIX-$PREPROC_DIR:latest gcr.io/$PROJECT_ID/$IMAGE_PREFIX-$PREPROC_DIR:latest\n",
    "!docker push gcr.io/$PROJECT_ID/$IMAGE_PREFIX-$PREPROC_DIR:latest"
   ]
  },
  {
   "cell_type": "code",
   "execution_count": 7,
   "metadata": {},
   "outputs": [
    {
     "name": "stdout",
     "output_type": "stream",
     "text": [
      "REPOSITORY                               TAG       IMAGE ID       CREATED         SIZE\n",
      "whjang-titanic-preprocess                latest    d364eb9577a0   2 minutes ago   1.14GB\n",
      "amancevice/pandas                        latest    913743377700   9 days ago      1.11GB\n",
      "frolvlad/alpine-python-machinelearning   latest    edb47bd01cc6   2 months ago    399MB\n"
     ]
    }
   ],
   "source": [
    "!docker image ls"
   ]
  },
  {
   "cell_type": "code",
   "execution_count": 13,
   "metadata": {},
   "outputs": [
    {
     "name": "stdout",
     "output_type": "stream",
     "text": [
      "Preprocessing Titanic Data\n",
      "   Pclass  SibSp  Sex_female  Sex_male  Survived\n",
      "0       3      1       False      True         0\n",
      "1       1      1        True     False         1\n",
      "2       3      0        True     False         1\n",
      "3       1      1        True     False         1\n",
      "4       3      0       False      True         0\n"
     ]
    }
   ],
   "source": [
    "!docker run gcr.io/$PROJECT_ID/$IMAGE_PREFIX-$PREPROC_DIR:latest --raw_csv_gcs_uri $RAW_CSV_GCS_URI --preproc_csv_gcs_uri $PREPROC_CSV_GCS_URI"
   ]
  },
  {
   "cell_type": "markdown",
   "metadata": {},
   "source": [
    "# 모델 train, evaluation"
   ]
  },
  {
   "cell_type": "code",
   "execution_count": 15,
   "metadata": {},
   "outputs": [
    {
     "name": "stdout",
     "output_type": "stream",
     "text": [
      "gs://practice-tensorflow/3.tutorial-kubeflow/preprocdata/processed_train.csv\n",
      "gs://practice-tensorflow/3.tutorial-kubeflow/model/model.pkl\n",
      "gs://practice-tensorflow/3.tutorial-kubeflow/latestacc/accuracy.csv\n"
     ]
    }
   ],
   "source": [
    "!echo $PREPROC_CSV_GCS_URI\n",
    "!echo $MODEL_PKL_GCS_URI\n",
    "!echo $ACC_CSV_GCS_URI"
   ]
  },
  {
   "cell_type": "code",
   "execution_count": 19,
   "metadata": {
    "collapsed": false,
    "jupyter": {
     "outputs_hidden": false
    }
   },
   "outputs": [
    {
     "name": "stdout",
     "output_type": "stream",
     "text": [
      "Sending build context to Docker daemon  14.85kB\n",
      "Step 1/12 : FROM amancevice/pandas\n",
      " ---> 913743377700\n",
      "Step 2/12 : RUN pip3 install --upgrade google-cloud-storage\n",
      " ---> Using cache\n",
      " ---> 879ce7aae86c\n",
      "Step 3/12 : RUN pip3 install --upgrade gcsfs\n",
      " ---> Using cache\n",
      " ---> d7104851174f\n",
      "Step 4/12 : RUN pip3 install --upgrade scikit-learn\n",
      " ---> Using cache\n",
      " ---> 43744646c9db\n",
      "Step 5/12 : RUN pip3 install --upgrade argparse\n",
      " ---> Using cache\n",
      " ---> cdbbfbc9b3fe\n",
      "Step 6/12 : RUN pip3 install --upgrade pandas\n",
      " ---> Using cache\n",
      " ---> a1a30c2227ca\n",
      "Step 7/12 : RUN pip3 install --upgrade simplejson\n",
      " ---> Using cache\n",
      " ---> 2b6d9307faa5\n",
      "Step 8/12 : ENV PYTHONUNBUFFERED 1\n",
      " ---> Using cache\n",
      " ---> 46c41aab76d1\n",
      "Step 9/12 : RUN mkdir -p /titanic/src\n",
      " ---> Using cache\n",
      " ---> 21d3e2614cc7\n",
      "Step 10/12 : COPY . /titanic/src\n",
      " ---> 71d9c3dff8fa\n",
      "Step 11/12 : WORKDIR /titanic/src\n",
      " ---> Running in 7ff7cfafb1b9\n",
      "Removing intermediate container 7ff7cfafb1b9\n",
      " ---> b24bfc41e757\n",
      "Step 12/12 : ENTRYPOINT [\"python\", \"titanic_train.py\"]\n",
      " ---> Running in 7cf1a0b5cda0\n",
      "Removing intermediate container 7cf1a0b5cda0\n",
      " ---> f3b68088af56\n",
      "Successfully built f3b68088af56\n",
      "Successfully tagged whjang-titanic-train:latest\n",
      "The push refers to repository [gcr.io/learned-iridium-385115/whjang-titanic-train]\n",
      "\n",
      "\u001b[1B987688b3: Preparing \n",
      "\u001b[1Be434c62b: Preparing \n",
      "\u001b[1B8bdf1d7c: Preparing \n",
      "\u001b[1B9eb936a1: Preparing \n",
      "\u001b[1Bb56f23ac: Preparing \n",
      "\u001b[1Bb1c34c83: Preparing \n",
      "\u001b[1Bfa01cd56: Preparing \n",
      "\u001b[1B0d68e89e: Preparing \n",
      "\u001b[1Bf9850ac6: Preparing \n",
      "\u001b[1B4e579163: Preparing \n",
      "\u001b[1B338d328a: Preparing \n",
      "\u001b[1B857d7bd5: Preparing \n",
      "\u001b[1B32a549a2: Preparing \n",
      "\u001b[1B8e3386b6: Preparing \n",
      "\u001b[1B5e673844: Preparing \n",
      "\u001b[1B811d364e: Preparing \n",
      "\u001b[1B260e173a: Preparing \n",
      "\u001b[1Bbb98b0dc: Preparing \n",
      "\u001b[1B8387f467: Preparing \n",
      "\u001b[20B87688b3: Pushed lready exists 3kB\u001b[20A\u001b[2K\u001b[19A\u001b[2K\u001b[15A\u001b[2K\u001b[11A\u001b[2K\u001b[9A\u001b[2K\u001b[7A\u001b[2K\u001b[3A\u001b[2K\u001b[2A\u001b[2K\u001b[20A\u001b[2Klatest: digest: sha256:68adb4dff053864dd5cf6eb02953b3b00b295eb3901a4fbda919735b87b5b6ef size: 4525\n",
      "train titanic model\n",
      "RF Model Score:  0.8162692847124825\n",
      "evaluation model\n",
      "No accuracy file, we will create one\n",
      "confusion matrix\n",
      "[[92 15]\n",
      " [30 41]]\n",
      "\n",
      "classification report\n",
      "              precision    recall  f1-score   support\n",
      "\n",
      "           0       0.75      0.86      0.80       107\n",
      "           1       0.73      0.58      0.65        71\n",
      "\n",
      "    accuracy                           0.75       178\n",
      "   macro avg       0.74      0.72      0.72       178\n",
      "weighted avg       0.75      0.75      0.74       178\n",
      "\n",
      "\n",
      "accuracy score\n",
      "0.7471910112359551\n",
      "\bWriting metrics file: /mlpipeline-metrics.json\n",
      "latestacc: 0.0\n",
      "min_acc_progress: 1e-06\n",
      "File model.pkl uploaded\n",
      "Write to GCS:gs://practice-tensorflow/3.tutorial-kubeflow/latestacc/accuracy.csv\n"
     ]
    }
   ],
   "source": [
    "!docker build -t $IMAGE_PREFIX-$TRAIN_DIR $TRAIN_DIR/.\n",
    "!docker tag $IMAGE_PREFIX-$TRAIN_DIR:latest gcr.io/$PROJECT_ID/$IMAGE_PREFIX-$TRAIN_DIR:latest\n",
    "!docker push gcr.io/$PROJECT_ID/$IMAGE_PREFIX-$TRAIN_DIR:latest\n",
    "!docker run gcr.io/$PROJECT_ID/$IMAGE_PREFIX-$TRAIN_DIR:latest \\\n",
    "--preproc_csv_gcs_uri $PREPROC_CSV_GCS_URI \\\n",
    "--model_pkl_gcs_uri $MODEL_PKL_GCS_URI \\\n",
    "--acc_csv_gcs_uri $ACC_CSV_GCS_URI \\\n",
    "--min_acc_progress 0.000001"
   ]
  },
  {
   "cell_type": "code",
   "execution_count": null,
   "metadata": {},
   "outputs": [],
   "source": []
  }
 ],
 "metadata": {
  "environment": {
   "kernel": "python3",
   "name": "tf2-gpu.2-11.m107",
   "type": "gcloud",
   "uri": "gcr.io/deeplearning-platform-release/tf2-gpu.2-11:m107"
  },
  "kernelspec": {
   "display_name": "Python 3 (ipykernel)",
   "language": "python",
   "name": "python3"
  },
  "language_info": {
   "codemirror_mode": {
    "name": "ipython",
    "version": 3
   },
   "file_extension": ".py",
   "mimetype": "text/x-python",
   "name": "python",
   "nbconvert_exporter": "python",
   "pygments_lexer": "ipython3",
   "version": "3.7.12"
  }
 },
 "nbformat": 4,
 "nbformat_minor": 4
}
