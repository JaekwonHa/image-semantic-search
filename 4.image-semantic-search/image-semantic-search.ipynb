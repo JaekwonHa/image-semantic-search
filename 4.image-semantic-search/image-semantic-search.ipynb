{
 "cells": [
  {
   "cell_type": "markdown",
   "source": [
    "# 이미지 100개 정도를 벡터화"
   ],
   "metadata": {
    "collapsed": false
   }
  },
  {
   "cell_type": "code",
   "execution_count": 1,
   "outputs": [],
   "source": [
    "import os\n",
    "import numpy as np\n",
    "import matplotlib.pyplot as plt"
   ],
   "metadata": {
    "collapsed": false
   }
  },
  {
   "cell_type": "markdown",
   "source": [
    "사전 학습된 모델 생성"
   ],
   "metadata": {
    "collapsed": false
   }
  },
  {
   "cell_type": "code",
   "execution_count": 2,
   "outputs": [],
   "source": [
    "# from tensorflow.keras.models import Model\n",
    "# from tensorflow.keras.applications.vgg16 import VGG16\n",
    "# from tensorflow.keras.applications.vgg16 import preprocess_input\n",
    "#\n",
    "# def get_model():\n",
    "#     pretrained_vgg16 = VGG16(weights=\"imagenet\", include_top=True)\n",
    "#     return Model(inputs=pretrained_vgg16.input, outputs=pretrained_vgg16.get_layer('fc2').output)"
   ],
   "metadata": {
    "collapsed": false
   }
  },
  {
   "cell_type": "code",
   "execution_count": 3,
   "outputs": [
    {
     "name": "stderr",
     "output_type": "stream",
     "text": [
      "2023-06-08 18:41:23.327714: I tensorflow/core/platform/cpu_feature_guard.cc:182] This TensorFlow binary is optimized to use available CPU instructions in performance-critical operations.\n",
      "To enable the following instructions: AVX2 FMA, in other operations, rebuild TensorFlow with the appropriate compiler flags.\n"
     ]
    }
   ],
   "source": [
    "from tensorflow.keras.models import Model\n",
    "from tensorflow.keras.applications.efficientnet import EfficientNetB0\n",
    "from efficientnet.keras import preprocess_input\n",
    "\n",
    "def get_model():\n",
    "    pretrained_efficientnet = EfficientNetB0(weights=\"imagenet\", include_top=True)\n",
    "    return Model(inputs=pretrained_efficientnet.input, outputs=pretrained_efficientnet.get_layer('top_dropout').output)"
   ],
   "metadata": {
    "collapsed": false
   }
  },
  {
   "cell_type": "code",
   "execution_count": 4,
   "outputs": [],
   "source": [
    "model = get_model()"
   ],
   "metadata": {
    "collapsed": false
   }
  },
  {
   "cell_type": "markdown",
   "source": [
    "deepFashion 이미지 중 일부를 벡터화"
   ],
   "metadata": {
    "collapsed": false
   }
  },
  {
   "cell_type": "code",
   "execution_count": 5,
   "metadata": {
    "collapsed": true
   },
   "outputs": [
    {
     "name": "stdout",
     "output_type": "stream",
     "text": [
      "1/1 [==============================] - 2s 2s/step\n"
     ]
    }
   ],
   "source": [
    "from tensorflow.keras.preprocessing import image\n",
    "\n",
    "def read_txt_file(file_path):\n",
    "    with open(file_path, 'r') as file:\n",
    "        lines = file.readlines()\n",
    "    return [line.strip() for line in lines]\n",
    "\n",
    "\n",
    "def generate_features(image_paths):\n",
    "    images = np.zeros(shape=(len(image_paths), 224, 224, 3))\n",
    "    for i, f in enumerate(image_paths):\n",
    "        img = image.load_img(f, target_size=(224, 224))\n",
    "        x_raw = image.img_to_array(img)\n",
    "        x_expand = np.expand_dims(x_raw, axis=0)\n",
    "        images[i, :, :, :] = x_expand\n",
    "    inputs = preprocess_input(images)\n",
    "    images_features = model.predict(inputs)\n",
    "    return images_features\n",
    "\n",
    "\n",
    "root_path = '/Users/user/workspace/personal/practice-mlops/2.build-tensorflow-model/data'\n",
    "image_paths = read_txt_file(root_path + '/sample.txt')\n",
    "image_paths = [os.path.join(root_path, path) for path in image_paths]\n",
    "\n",
    "features = generate_features(image_paths)\n",
    "\n",
    "category_numbers = read_txt_file(root_path + '/sample_cate.txt')\n",
    "category_numbers = [int(num) for num in category_numbers]\n",
    "\n",
    "category_list = read_txt_file(root_path + '/list_category_cloth.txt')[2:]  # Skip first two lines\n",
    "\n",
    "categories = [category_list[num-1] for num in category_numbers]  # 1-indexed"
   ]
  },
  {
   "cell_type": "code",
   "execution_count": 6,
   "outputs": [
    {
     "data": {
      "text/plain": "numpy.ndarray"
     },
     "execution_count": 6,
     "metadata": {},
     "output_type": "execute_result"
    }
   ],
   "source": [
    "type(features)"
   ],
   "metadata": {
    "collapsed": false
   }
  },
  {
   "cell_type": "code",
   "execution_count": 7,
   "outputs": [
    {
     "data": {
      "text/plain": "(10, 1280)"
     },
     "execution_count": 7,
     "metadata": {},
     "output_type": "execute_result"
    }
   ],
   "source": [
    "features.shape"
   ],
   "metadata": {
    "collapsed": false
   }
  },
  {
   "cell_type": "code",
   "execution_count": 8,
   "outputs": [
    {
     "data": {
      "text/plain": "array([-0.10741259, -0.18590444, -0.18922736, ..., -0.19562055,\n       -0.06734131,  0.08830036], dtype=float32)"
     },
     "execution_count": 8,
     "metadata": {},
     "output_type": "execute_result"
    }
   ],
   "source": [
    "features[0]"
   ],
   "metadata": {
    "collapsed": false
   }
  },
  {
   "cell_type": "markdown",
   "source": [
    "# 벡터화된거 차원축소해서 클러스터링 해본다\n",
    "\n",
    "PCA, UMAP, t-SNE 등을 통해 2차원 차원 축소 후 클러스터링 시각화를 해볼 수 있다"
   ],
   "metadata": {
    "collapsed": false
   }
  },
  {
   "cell_type": "code",
   "execution_count": 9,
   "outputs": [],
   "source": [
    "# from sklearn.decomposition import PCA\n",
    "#\n",
    "# # Applying PCA to reduce the features to 2D for visualization\n",
    "# pca = PCA(n_components=2)\n",
    "# principalComponents = pca.fit_transform(features)\n",
    "#\n",
    "# fig, ax = plt.subplots()\n",
    "#\n",
    "# for category in set(categories):\n",
    "#     ix = np.where(np.array(categories) == category)\n",
    "#     ax.scatter(principalComponents[ix, 0], principalComponents[ix, 1], label=category)\n",
    "#\n",
    "# ax.legend()\n",
    "# plt.show()"
   ],
   "metadata": {
    "collapsed": false
   }
  },
  {
   "cell_type": "code",
   "execution_count": 10,
   "outputs": [],
   "source": [
    "# from sklearn.decomposition import PCA\n",
    "#\n",
    "# # Select a subset of categories to visualize\n",
    "# selected_categories = set(categories[:5])  # Select the first 5 categories\n",
    "#\n",
    "# # Applying PCA to reduce the features to 2D for visualization\n",
    "# pca = PCA(n_components=2)\n",
    "# principalComponents = pca.fit_transform(features)\n",
    "#\n",
    "# fig, ax = plt.subplots()\n",
    "#\n",
    "# for category in selected_categories:\n",
    "#     ix = np.where(np.array(categories) == category)\n",
    "#     ax.scatter(principalComponents[ix, 0], principalComponents[ix, 1], label=category)\n",
    "#\n",
    "# ax.legend()\n",
    "# plt.show()"
   ],
   "metadata": {
    "collapsed": false
   }
  },
  {
   "cell_type": "markdown",
   "source": [
    "차원이 높아서 그런지, 아니면 사용한 모델이 문제인지, 아니면 fashion 중 특정 옷들에 대한 분류가 어려운건지 클러스터링이 제대로 된 것 같지는 않다"
   ],
   "metadata": {
    "collapsed": false
   }
  },
  {
   "cell_type": "markdown",
   "source": [
    "# knn search 테스트\n",
    "\n",
    "## sample data GCS 업로드\n",
    "\n",
    "```bash\n",
    "gcloud init\n",
    "gcloud auth list\n",
    "gcloud auth login\n",
    "gcloud config set project white-outlook-389109\n",
    "\n",
    "gsutil ls -r gs://image_semantic_search\n",
    "gsutil -m cp ./data/img/Butterfly_Print_Blouse/img_00000040.jpg gs://image_semantic_search/data/img/Butterfly_Print_Blouse/img_00000040.jpg\n",
    "```"
   ],
   "metadata": {
    "collapsed": false
   }
  },
  {
   "cell_type": "markdown",
   "source": [
    "## index 생성\n",
    "\n",
    "```bash\n",
    "curl -XPUT \"http://34.68.94.225:9200/image-semantic-search-20230607\" -H 'Content-Type: application/json' -d '\n",
    "{\n",
    "  \"settings\": {\n",
    "    \"index\": {\n",
    "      \"knn\": \"true\",\n",
    "      \"knn.algo_param\": {\n",
    "        \"ef_search\": \"512\"\n",
    "      },\n",
    "      \"number_of_shards\": \"1\",\n",
    "      \"number_of_replicas\": \"0\"\n",
    "    }\n",
    "  },\n",
    "  \"mappings\": {\n",
    "    \"properties\": {\n",
    "      \"name\": {\n",
    "        \"type\": \"text\"\n",
    "      },\n",
    "      \"image_url\": {\n",
    "        \"type\": \"float\"\n",
    "      },\n",
    "      \"vector\": {\n",
    "        \"type\": \"knn_vector\",\n",
    "        \"dimension\": \"1280\",\n",
    "        \"method\": {\n",
    "          \"name\": \"hnsw\",\n",
    "          \"space_type\": \"cosinesimil\",\n",
    "          \"engine\": \"nmslib\",\n",
    "          \"parameters\": {\n",
    "            \"ef_construction\": 256,\n",
    "            \"m\": 48\n",
    "          }\n",
    "        }\n",
    "      }\n",
    "    }\n",
    "  }\n",
    "}'\n",
    "```"
   ],
   "metadata": {
    "collapsed": false
   }
  },
  {
   "cell_type": "markdown",
   "source": [
    "## sample data 벡터화, 색인"
   ],
   "metadata": {
    "collapsed": false
   }
  },
  {
   "cell_type": "code",
   "execution_count": 11,
   "outputs": [
    {
     "name": "stdout",
     "output_type": "stream",
     "text": [
      "1/1 [==============================] - 0s 330ms/step\n"
     ]
    }
   ],
   "source": [
    "root_path = '/Users/user/workspace/personal/practice-mlops/2.build-tensorflow-model/data'\n",
    "image_paths = read_txt_file(root_path + '/sample.txt')\n",
    "image_paths = [os.path.join(root_path, path) for path in image_paths]\n",
    "\n",
    "features = generate_features(image_paths)"
   ],
   "metadata": {
    "collapsed": false
   }
  },
  {
   "cell_type": "code",
   "execution_count": 12,
   "outputs": [
    {
     "data": {
      "text/plain": "['Butterfly_Print_Blouse_img_00000040.jpg',\n 'Varsity-Striped_Tee_img_00000008.jpg',\n 'Distressed_Denim_Mini_Skirt_img_00000072.jpg',\n 'Collarless_Woven_Blazer_img_00000020.jpg',\n 'Pin_Dot_Suit_Jacket_img_00000024.jpg',\n 'Geo_Print_Strappy_Maxi_Dress_img_00000024.jpg',\n 'Embroidered_Gauze_Peasant_Dress_img_00000005.jpg',\n 'Twisted-Hem_Plaid_Blouse_img_00000095.jpg',\n 'Tribal_Print_Cutout_Back_Dress_img_00000027.jpg',\n 'Crisscross_Back_Crepe_Jumpsuit_img_00000042.jpg']"
     },
     "execution_count": 12,
     "metadata": {},
     "output_type": "execute_result"
    }
   ],
   "source": [
    "names = []\n",
    "\n",
    "for image_path in image_paths:\n",
    "    words = image_path.split('/')\n",
    "    name = words[-2] + '_' + words[-1]\n",
    "    names.append(name)\n",
    "\n",
    "names"
   ],
   "metadata": {
    "collapsed": false
   }
  },
  {
   "cell_type": "code",
   "execution_count": 13,
   "outputs": [
    {
     "data": {
      "text/plain": "['https://storage.cloud.google.com/image_semantic_search/data/img/Butterfly_Print_Blouse/img_00000040.jpg',\n 'https://storage.cloud.google.com/image_semantic_search/data/img/Varsity-Striped_Tee/img_00000008.jpg',\n 'https://storage.cloud.google.com/image_semantic_search/data/img/Distressed_Denim_Mini_Skirt/img_00000072.jpg',\n 'https://storage.cloud.google.com/image_semantic_search/data/img/Collarless_Woven_Blazer/img_00000020.jpg',\n 'https://storage.cloud.google.com/image_semantic_search/data/img/Pin_Dot_Suit_Jacket/img_00000024.jpg',\n 'https://storage.cloud.google.com/image_semantic_search/data/img/Geo_Print_Strappy_Maxi_Dress/img_00000024.jpg',\n 'https://storage.cloud.google.com/image_semantic_search/data/img/Embroidered_Gauze_Peasant_Dress/img_00000005.jpg',\n 'https://storage.cloud.google.com/image_semantic_search/data/img/Twisted-Hem_Plaid_Blouse/img_00000095.jpg',\n 'https://storage.cloud.google.com/image_semantic_search/data/img/Tribal_Print_Cutout_Back_Dress/img_00000027.jpg',\n 'https://storage.cloud.google.com/image_semantic_search/data/img/Crisscross_Back_Crepe_Jumpsuit/img_00000042.jpg']"
     },
     "execution_count": 13,
     "metadata": {},
     "output_type": "execute_result"
    }
   ],
   "source": [
    "image_urls = []\n",
    "\n",
    "for image_path in image_paths:\n",
    "    words = image_path.split('/')\n",
    "    url = '/'.join(['https://storage.cloud.google.com/image_semantic_search', words[-4], words[-3], words[-2], words[-1]])\n",
    "    image_urls.append(url)\n",
    "\n",
    "image_urls"
   ],
   "metadata": {
    "collapsed": false
   }
  },
  {
   "cell_type": "code",
   "execution_count": 14,
   "outputs": [
    {
     "data": {
      "text/plain": "{'name': 'Butterfly_Print_Blouse_img_00000040.jpg',\n 'image_url': 'https://storage.cloud.google.com/image_semantic_search/data/img/Butterfly_Print_Blouse/img_00000040.jpg',\n 'vector': array([-0.10741259, -0.18590444, -0.18922736, ..., -0.19562055,\n        -0.06734131,  0.08830036], dtype=float32)}"
     },
     "execution_count": 14,
     "metadata": {},
     "output_type": "execute_result"
    }
   ],
   "source": [
    "documents = []\n",
    "\n",
    "for i in range(len(features)):\n",
    "    documents.append({\n",
    "        'name': names[i],\n",
    "        'image_url': image_urls[i],\n",
    "        'vector': features[i]\n",
    "    })\n",
    "\n",
    "documents[0]"
   ],
   "metadata": {
    "collapsed": false
   }
  },
  {
   "cell_type": "code",
   "execution_count": 16,
   "outputs": [],
   "source": [
    "from elasticsearch import Elasticsearch\n",
    "\n",
    "# Elasticsearch 클라이언트 초기화\n",
    "# es = Elasticsearch([{'host': 'http://34.68.94.225', 'port': 9200}])\n",
    "es = Elasticsearch(\"http://34.68.94.225:9200\")\n",
    "\n",
    "def index_write(client, index_name, documents):\n",
    "    for document in documents:\n",
    "        client.index(index=index_name, id=document['name'], body=document)\n",
    "\n",
    "index_write(es, 'image-semantic-search-20230607', documents)"
   ],
   "metadata": {
    "collapsed": false
   }
  }
 ],
 "metadata": {
  "kernelspec": {
   "display_name": "Python 3",
   "language": "python",
   "name": "python3"
  },
  "language_info": {
   "codemirror_mode": {
    "name": "ipython",
    "version": 2
   },
   "file_extension": ".py",
   "mimetype": "text/x-python",
   "name": "python",
   "nbconvert_exporter": "python",
   "pygments_lexer": "ipython2",
   "version": "2.7.6"
  }
 },
 "nbformat": 4,
 "nbformat_minor": 0
}
