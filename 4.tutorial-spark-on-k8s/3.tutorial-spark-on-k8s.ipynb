{
 "cells": [
  {
   "cell_type": "markdown",
   "source": [
    "# tutorial-spark-on-k8s\n",
    "> 목표: pyspark 어플리케이션을 GCP에 구성된 k8s cluster에 submit하고 결과를 확인한다\n",
    "\n",
    "1. 사전 검토\n",
    "2. 간단한 pyspark 어플리케이션 개발. local 환경에서 실행\n",
    "3. GCP k8s cluster 구성\n",
    "4. GCP Artifactory Registry 구성\n",
    "5. spark driver를 위한 k8s ServiceAccount 생성\n",
    "6. pyspark 어플리케이션 image build, push\n",
    "7. spark-submit on k8s"
   ],
   "metadata": {
    "collapsed": false
   }
  },
  {
   "cell_type": "markdown",
   "source": [
    "## 1. 사전 검토\n",
    "\n",
    "* 참고\n",
    "  * [Kubernetes 에서 Spark 어플리케이션 실행하기 (Kafka helm chart 설치 포함)](https://heartsavior.medium.com/kubernetes-%EC%97%90%EC%84%9C-spark-%EC%96%B4%ED%94%8C%EB%A6%AC%EC%BC%80%EC%9D%B4%EC%85%98-%EC%8B%A4%ED%96%89%ED%95%98%EA%B8%B0-kafka-helm-chart-%EC%84%A4%EC%B9%98-%ED%8F%AC%ED%95%A8-8f47f48419c0)\n",
    "  * [Spark on Kubernetes(Google Kubernetes Env) : custom Python](https://firstheart.tistory.com/entry/Spark-on-Kubernetes-custom-Python-source-%EC%8B%A4%ED%96%89)\n",
    "  * [My Journey With Spark On Kubernetes... In Python (1/3)](https://dev.to/stack-labs/my-journey-with-spark-on-kubernetes-in-python-1-3-4nl3)\n",
    "* spark 실행 방식: Spark-submit vs Spark Operator"
   ],
   "metadata": {
    "collapsed": false
   }
  },
  {
   "cell_type": "markdown",
   "source": [
    "## 2. 간단한 pyspark 어플리케이션 개발. local 환경에서 실행"
   ],
   "metadata": {
    "collapsed": false
   }
  },
  {
   "cell_type": "markdown",
   "source": [
    "```bash\n",
    "conda install -c conda-forge conda-pack\n",
    "conda create -n mlops python=3.11\n",
    "conda activate mlops\n",
    "\n",
    "pip install pyspark\n",
    "```"
   ],
   "metadata": {
    "collapsed": false
   }
  },
  {
   "cell_type": "markdown",
   "source": [
    "```python\n",
    "# step1/main.py\n",
    "from pyspark.sql import SparkSession\n",
    "from pyspark.sql.functions import rand\n",
    "\n",
    "spark = SparkSession.builder \\\n",
    "    .appName(\"Random Number Generator\") \\\n",
    "    .getOrCreate()\n",
    "\n",
    "df = spark.range(1000)\n",
    "\n",
    "df = df.withColumn(\"random_number\", rand())\n",
    "\n",
    "df = df.repartition(5)\n",
    "\n",
    "df.show()\n",
    "\n",
    "spark.stop()\n",
    "```"
   ],
   "metadata": {
    "collapsed": false
   }
  },
  {
   "cell_type": "markdown",
   "source": [
    "```bash\n",
    "conda pack -n mlops -o environment.tar.gz\n",
    "/Users/user/playground/spark/spark-3.4.0-bin-hadoop3/bin/spark-submit --archives environment.tar.gz#environment main.py\n",
    "```"
   ],
   "metadata": {
    "collapsed": false
   }
  },
  {
   "cell_type": "markdown",
   "source": [
    "## 3. GCP k8s cluster 구성"
   ],
   "metadata": {
    "collapsed": false
   }
  },
  {
   "cell_type": "markdown",
   "source": [
    "```bash\n",
    "export CLUSTER_NAME=image-semantic-search\n",
    "export REGION=us-central1-a\n",
    "\n",
    "gcloud components update\n",
    "gcloud config set compute/zone $REGION\n",
    "\n",
    "gcloud container clusters create $CLUSTER_NAME \\\n",
    "    --enable-autoscaling \\\n",
    "    --min-nodes=2 \\\n",
    "    --num-nodes=4 \\\n",
    "    --max-nodes=4 \\\n",
    "    --node-locations=$REGION \\\n",
    "    --machine-type=e2-standard-4\n",
    "\n",
    "export KUBECONFIG=~/.kube/config\n",
    "kubectl config get-contexts\n",
    "kubectl config set-context gke_white-outlook-389109_us-central1-a_image-semantic-search\n",
    "kubectl cluster-info | grep 'Kubernetes control plane' |awk '{print $7}'\n",
    "```"
   ],
   "metadata": {
    "collapsed": false
   }
  },
  {
   "cell_type": "markdown",
   "source": [
    "## 4. GCP Artifactory Registry 구성\n",
    "\n",
    "* Artifact Registry 생성\n",
    "* remote docker image registry 등록\n",
    "* Artifact Registry 접근을 위한 'iam.serviceAccountTokenCreator' 권한 추가\n",
    "* docker login"
   ],
   "metadata": {
    "collapsed": false
   }
  },
  {
   "cell_type": "markdown",
   "source": [
    "```bash\n",
    "gcloud artifacts repositories create image-semantic-search \\\n",
    "\t\t--location=us-central1 \\\n",
    "\t\t--repository-format=docker\n",
    "\n",
    "gcloud auth configure-docker us-central1-docker.pkg.dev\n",
    "\n",
    "gcloud iam service-accounts add-iam-policy-binding service-artifactoryregistryadm@white-outlook-389109.iam.gserviceaccount.com --member='user:<EMAIL>' --role='roles/iam.serviceAccountTokenCreator'\n",
    "\n",
    "gcloud iam service-accounts add-iam-policy-binding service-artifactoryregistryadm@white-outlook-389109.iam.gserviceaccount.com --member='serviceAccount:service-artifactoryregistryadm@white-outlook-389109.iam.gserviceaccount.com' --role='roles/iam.serviceAccountTokenCreator'\n",
    "\n",
    "gcloud auth print-access-token \\\n",
    "  --impersonate-service-account service-artifactoryregistryadm@white-outlook-389109.iam.gserviceaccount.com | docker login \\\n",
    "  -u oauth2accesstoken \\\n",
    "  --password-stdin https://us-central1-docker.pkg.dev\n",
    "```"
   ],
   "metadata": {
    "collapsed": false
   }
  },
  {
   "cell_type": "markdown",
   "source": [
    "## 5. spark driver를 위한 k8s ServiceAccount 생성"
   ],
   "metadata": {
    "collapsed": false
   }
  },
  {
   "cell_type": "markdown",
   "source": [
    "k8s/spark-sa-rbac.yaml\n",
    "```yaml\n",
    "apiVersion: v1\n",
    "kind: ServiceAccount\n",
    "metadata:\n",
    "  name: spark-sa\n",
    "  namespace: spark\n",
    "---\n",
    "apiVersion: rbac.authorization.k8s.io/v1\n",
    "kind: Role\n",
    "metadata:\n",
    "  namespace: spark\n",
    "  name: spark-role\n",
    "rules:\n",
    "- apiGroups: [\"\"]\n",
    "  resources: [\"pods\"]\n",
    "  verbs: [\"*\"]\n",
    "- apiGroups: [\"\"]\n",
    "  resources: [\"services\"]\n",
    "  verbs: [\"*\"]\n",
    "---\n",
    "apiVersion: rbac.authorization.k8s.io/v1\n",
    "kind: RoleBinding\n",
    "metadata:\n",
    "  name: spark-role-binding\n",
    "  namespace: spark\n",
    "subjects:\n",
    "- kind: ServiceAccount\n",
    "  name: spark-sa\n",
    "  namespace: spark\n",
    "roleRef:\n",
    "  kind: Role\n",
    "  name: spark-role\n",
    "  apiGroup: rbac.authorization.k8s.io\n",
    "```"
   ],
   "metadata": {
    "collapsed": false
   }
  },
  {
   "cell_type": "markdown",
   "source": [
    "```bash\n",
    "kubectl create namespace spark\n",
    "kubectl create -f k8s/spark-sa-rbac.yaml\n",
    "```"
   ],
   "metadata": {
    "collapsed": false
   }
  },
  {
   "cell_type": "markdown",
   "source": [
    "## 6. pyspark 어플리케이션 image build, push"
   ],
   "metadata": {
    "collapsed": false
   }
  },
  {
   "cell_type": "markdown",
   "source": [
    "```bash\n",
    "export IMAGE_REGISTRY=us-central1-docker.pkg.dev/white-outlook-389109/image-semantic-search/myapp\n",
    "export SPARK_HOME=/Users/user/playground/spark/spark-3.4.0-bin-hadoop3\n",
    "\n",
    "# start docker daemon\n",
    "\n",
    "conda pack -n mlops -o environment.tar.gz\n",
    "DOCKER_BUILDKIT=1 docker build -t $IMAGE_REGISTRY:20230615 -f Dockerfile .\n",
    "docker push $IMAGE_REGISTRY:20230615\n",
    "```"
   ],
   "metadata": {
    "collapsed": false
   }
  },
  {
   "cell_type": "markdown",
   "source": [
    "### docker image 디버깅 방법\n",
    "\n",
    "```bash\n",
    "docker run -i -t continuumio/miniconda3 /bin/bash\n",
    "\n",
    "docker run --name myapp -d conda/miniconda3:latest tail -f /dev/null\n",
    "docker exec -it myapp /bin/bash\n",
    "```"
   ],
   "metadata": {
    "collapsed": false
   }
  },
  {
   "cell_type": "markdown",
   "source": [
    "### spark-submit on local docker daemon"
   ],
   "metadata": {
    "collapsed": false
   }
  },
  {
   "cell_type": "markdown",
   "source": [
    "```bash\n",
    "docker run -i -t $IMAGE_REGISTRY:20230615\n",
    "```"
   ],
   "metadata": {
    "collapsed": false
   }
  },
  {
   "cell_type": "markdown",
   "source": [
    "+---+-------------------+\n",
    "| id|      random_number|\n",
    "+---+-------------------+\n",
    "|104|0.31588088706031237|\n",
    "| 77| 0.5041149555191174|\n",
    "| 56| 0.5569970173745932|\n",
    "| 85|0.22438858133258532|\n",
    "| 39| 0.6389752987700066|\n",
    "| 74|0.40163083330112526|\n",
    "| 90| 0.4282056942821212|\n",
    "| 24| 0.8977904683513714|\n",
    "|113| 0.3452639196653151|\n",
    "|115| 0.8431595093970192|\n",
    "| 54| 0.3491201206027621|\n",
    "| 11| 0.3207065708434842|\n",
    "| 78| 0.9050574840573348|\n",
    "|122|0.09514297745459055|\n",
    "|105|  0.956072096370975|\n",
    "|131|0.07062583695373637|\n",
    "| 55| 0.8705660969782955|\n",
    "|  1|0.06583183809293447|\n",
    "| 69|  0.228369280866202|\n",
    "| 20|  0.803380551585304|\n",
    "+---+-------------------+\n",
    "only showing top 20 rows"
   ],
   "metadata": {
    "collapsed": false
   }
  },
  {
   "cell_type": "markdown",
   "source": [
    "## 7. spark-submit on k8s\n",
    "\n",
    "* spark driver, executor 에서 사용할 이미지 빌드\n",
    "* spark-submit on GKE"
   ],
   "metadata": {
    "collapsed": false
   }
  },
  {
   "cell_type": "markdown",
   "source": [
    "```bash\n",
    "./bin/docker-image-tool.sh -r us-central1-docker.pkg.dev/white-outlook-389109/image-semantic-search -t latest -p kubernetes/dockerfiles/spark/bindings/python/Dockerfile build\n",
    "./bin/docker-image-tool.sh -r us-central1-docker.pkg.dev/white-outlook-389109/image-semantic-search -t latest push\n",
    "```"
   ],
   "metadata": {
    "collapsed": false
   }
  },
  {
   "cell_type": "code",
   "execution_count": null,
   "outputs": [],
   "source": [],
   "metadata": {
    "collapsed": false
   }
  },
  {
   "cell_type": "code",
   "execution_count": null,
   "outputs": [],
   "source": [],
   "metadata": {
    "collapsed": false
   }
  },
  {
   "cell_type": "code",
   "execution_count": null,
   "outputs": [],
   "source": [],
   "metadata": {
    "collapsed": false
   }
  }
 ],
 "metadata": {
  "kernelspec": {
   "display_name": "Python 3",
   "language": "python",
   "name": "python3"
  },
  "language_info": {
   "codemirror_mode": {
    "name": "ipython",
    "version": 2
   },
   "file_extension": ".py",
   "mimetype": "text/x-python",
   "name": "python",
   "nbconvert_exporter": "python",
   "pygments_lexer": "ipython2",
   "version": "2.7.6"
  }
 },
 "nbformat": 4,
 "nbformat_minor": 0
}
